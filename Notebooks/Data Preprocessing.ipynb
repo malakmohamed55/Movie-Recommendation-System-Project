{
 "cells": [
  {
   "cell_type": "code",
   "execution_count": 1,
   "id": "8506a11b",
   "metadata": {},
   "outputs": [
    {
     "name": "stdout",
     "output_type": "stream",
     "text": [
      "Ratings Data:\n",
      "   userId  movieId  rating  timestamp\n",
      "0       1        1     4.0  964982703\n",
      "1       1        3     4.0  964981247\n",
      "2       1        6     4.0  964982224\n",
      "3       1       47     5.0  964983815\n",
      "4       1       50     5.0  964982931\n",
      "\n",
      "Movies Data:\n",
      "   movieId                               title  \\\n",
      "0        1                    Toy Story (1995)   \n",
      "1        2                      Jumanji (1995)   \n",
      "2        3             Grumpier Old Men (1995)   \n",
      "3        4            Waiting to Exhale (1995)   \n",
      "4        5  Father of the Bride Part II (1995)   \n",
      "\n",
      "                                        genres  \n",
      "0  Adventure|Animation|Children|Comedy|Fantasy  \n",
      "1                   Adventure|Children|Fantasy  \n",
      "2                               Comedy|Romance  \n",
      "3                         Comedy|Drama|Romance  \n",
      "4                                       Comedy  \n",
      "\n",
      "Missing values in ratings:\n",
      " userId       0\n",
      "movieId      0\n",
      "rating       0\n",
      "timestamp    0\n",
      "dtype: int64\n",
      "\n",
      "Missing values in movies:\n",
      " movieId    0\n",
      "title      0\n",
      "genres     0\n",
      "dtype: int64\n",
      "\n",
      "Merged Dataset:\n",
      "   userId  movieId  rating                        title  \\\n",
      "0       1        1     4.0             Toy Story (1995)   \n",
      "1       1        3     4.0      Grumpier Old Men (1995)   \n",
      "2       1        6     4.0                  Heat (1995)   \n",
      "3       1       47     5.0  Seven (a.k.a. Se7en) (1995)   \n",
      "4       1       50     5.0   Usual Suspects, The (1995)   \n",
      "\n",
      "                                        genres  \n",
      "0  Adventure|Animation|Children|Comedy|Fantasy  \n",
      "1                               Comedy|Romance  \n",
      "2                        Action|Crime|Thriller  \n",
      "3                             Mystery|Thriller  \n",
      "4                       Crime|Mystery|Thriller  \n",
      "\n",
      "Number of unique users: 610\n",
      "Number of unique movies: 9724\n",
      "Number of unique genres combinations: 951\n"
     ]
    }
   ],
   "source": [
    "# 1. Import necessary libraries\n",
    "import pandas as pd\n",
    "import numpy as np\n",
    "\n",
    "# 2. Load the datasets\n",
    "movies= pd.read_csv(r\"C:\\Users\\Admin\\OneDrive\\Documents\\Desktop\\final project ip\\movies.csv\")   # Contains userId, movieId, rating, timestamp\n",
    "ratings = pd.read_csv(r\"C:\\Users\\Admin\\OneDrive\\Documents\\Desktop\\final project ip\\ratings.csv\")     # Contains movieId, title, genres\n",
    "\n",
    "# 3. Preview the datasets\n",
    "print(\"Ratings Data:\")\n",
    "print(ratings.head())\n",
    "\n",
    "print(\"\\nMovies Data:\")\n",
    "print(movies.head())\n",
    "\n",
    "# 4. Check for missing values\n",
    "print(\"\\nMissing values in ratings:\\n\", ratings.isnull().sum())\n",
    "print(\"\\nMissing values in movies:\\n\", movies.isnull().sum())\n",
    "\n",
    "# 5. Merge the datasets on 'movieId'\n",
    "merged_df = pd.merge(ratings, movies, on='movieId')\n",
    "\n",
    "# 6. Drop unnecessary columns (like 'timestamp' if not needed)\n",
    "merged_df.drop(columns=['timestamp'], inplace=True)\n",
    "\n",
    "# 7. Preview the merged data\n",
    "print(\"\\nMerged Dataset:\")\n",
    "print(merged_df.head())\n",
    "\n",
    "# 8. Basic statistics\n",
    "print(\"\\nNumber of unique users:\", merged_df['userId'].nunique())\n",
    "print(\"Number of unique movies:\", merged_df['movieId'].nunique())\n",
    "print(\"Number of unique genres combinations:\", merged_df['genres'].nunique())\n"
   ]
  },
  {
   "cell_type": "code",
   "execution_count": 2,
   "id": "b5b8f140",
   "metadata": {},
   "outputs": [
    {
     "name": "stdout",
     "output_type": "stream",
     "text": [
      "Number of duplicate rows: 0\n",
      "New shape after removing duplicates: (100836, 5)\n"
     ]
    }
   ],
   "source": [
    "# Check for duplicate rows\n",
    "duplicate_rows = merged_df.duplicated()\n",
    "print(f\"Number of duplicate rows: {duplicate_rows.sum()}\")\n",
    "\n",
    "# Remove duplicate rows (if any)\n",
    "merged_df = merged_df.drop_duplicates()\n",
    "\n",
    "# Confirm removal\n",
    "print(f\"New shape after removing duplicates: {merged_df.shape}\")\n"
   ]
  }
 ],
 "metadata": {
  "kernelspec": {
   "display_name": "Python 3",
   "language": "python",
   "name": "python3"
  },
  "language_info": {
   "codemirror_mode": {
    "name": "ipython",
    "version": 3
   },
   "file_extension": ".py",
   "mimetype": "text/x-python",
   "name": "python",
   "nbconvert_exporter": "python",
   "pygments_lexer": "ipython3",
   "version": "3.11.9"
  }
 },
 "nbformat": 4,
 "nbformat_minor": 5
}
