{
 "cells": [
  {
   "cell_type": "code",
   "execution_count": 1,
   "id": "3e6bce1d",
   "metadata": {},
   "outputs": [],
   "source": [
    "from sklearn.feature_extraction.text import TfidfVectorizer\n",
    "from sklearn.metrics.pairwise import cosine_similarity\n",
    "import pandas as pd\n"
   ]
  },
  {
   "cell_type": "code",
   "execution_count": 2,
   "id": "304b0af0",
   "metadata": {},
   "outputs": [],
   "source": [
    "# 2. Load the datasets\n",
    "movies= pd.read_csv(r\"C:\\Users\\Admin\\OneDrive\\Documents\\Desktop\\final project ip\\movies.csv\")   # Contains userId, movieId, rating, timestamp\n",
    "ratings = pd.read_csv(r\"C:\\Users\\Admin\\OneDrive\\Documents\\Desktop\\final project ip\\ratings.csv\")     # Contains movieId, title, genres\n",
    "merged_df = pd.merge(ratings, movies, on='movieId')\n",
    "merged_df.drop(columns=['timestamp'], inplace=True)\n",
    "merged_df = merged_df.drop_duplicates()\n",
    "\n",
    "\n",
    "\n"
   ]
  },
  {
   "cell_type": "code",
   "execution_count": 3,
   "id": "08354e4f",
   "metadata": {},
   "outputs": [],
   "source": [
    "movies_df = merged_df[['movieId', 'title', 'genres']].drop_duplicates(subset='movieId').reset_index(drop=True)\n"
   ]
  },
  {
   "cell_type": "code",
   "execution_count": 4,
   "id": "ca184a81",
   "metadata": {},
   "outputs": [],
   "source": [
    "from sklearn.feature_extraction.text import TfidfVectorizer\n",
    "from sklearn.metrics.pairwise import cosine_similarity\n",
    "\n",
    "movies_df['genres'] = movies_df['genres'].fillna('')\n",
    "tfidf = TfidfVectorizer(stop_words='english')\n",
    "tfidf_matrix = tfidf.fit_transform(movies_df['genres'])\n"
   ]
  },
  {
   "cell_type": "code",
   "execution_count": 5,
   "id": "1d452eb6",
   "metadata": {},
   "outputs": [],
   "source": [
    "cosine_sim = cosine_similarity(tfidf_matrix, tfidf_matrix)\n"
   ]
  },
  {
   "cell_type": "code",
   "execution_count": 6,
   "id": "a92f5e58",
   "metadata": {},
   "outputs": [],
   "source": [
    "indices = pd.Series(movies_df.index, index=movies_df['title']).drop_duplicates()\n"
   ]
  },
  {
   "cell_type": "code",
   "execution_count": 7,
   "id": "d712363e",
   "metadata": {},
   "outputs": [],
   "source": [
    "def get_content_recommendations(title, cosine_sim=cosine_sim):\n",
    "    idx = indices[title]\n",
    "    sim_scores = list(enumerate(cosine_sim[idx]))\n",
    "    sim_scores = sorted(sim_scores, key=lambda x: x[1], reverse=True)\n",
    "    sim_scores = sim_scores[1:11]\n",
    "    movie_indices = [i[0] for i in sim_scores]\n",
    "    return movies_df['title'].iloc[movie_indices]\n"
   ]
  },
  {
   "cell_type": "code",
   "execution_count": 8,
   "id": "bc1dd1d2",
   "metadata": {},
   "outputs": [
    {
     "data": {
      "text/plain": [
       "735                                    Toy Story 2 (1999)\n",
       "751                                 Monsters, Inc. (2001)\n",
       "1592                                          Antz (1998)\n",
       "1757       Adventures of Rocky and Bullwinkle, The (2000)\n",
       "1802                     Emperor's New Groove, The (2000)\n",
       "1905                               Shrek the Third (2007)\n",
       "2019                             The Good Dinosaur (2015)\n",
       "3858    Asterix and the Vikings (Astérix et les Viking...\n",
       "4192                       Tale of Despereaux, The (2008)\n",
       "4624                                         Moana (2016)\n",
       "Name: title, dtype: object"
      ]
     },
     "execution_count": 8,
     "metadata": {},
     "output_type": "execute_result"
    }
   ],
   "source": [
    "get_content_recommendations(\"Toy Story (1995)\")\n"
   ]
  }
 ],
 "metadata": {
  "kernelspec": {
   "display_name": "Python 3",
   "language": "python",
   "name": "python3"
  },
  "language_info": {
   "codemirror_mode": {
    "name": "ipython",
    "version": 3
   },
   "file_extension": ".py",
   "mimetype": "text/x-python",
   "name": "python",
   "nbconvert_exporter": "python",
   "pygments_lexer": "ipython3",
   "version": "3.13.2"
  }
 },
 "nbformat": 4,
 "nbformat_minor": 5
}
