{
 "cells": [
  {
   "cell_type": "code",
   "execution_count": 1,
   "id": "a5b205b1",
   "metadata": {},
   "outputs": [],
   "source": [
    "import pandas as pd\n",
    "from sklearn.metrics.pairwise import cosine_similarity\n",
    "from sklearn.feature_extraction.text import TfidfVectorizer\n",
    "from surprise import Dataset, Reader, SVD\n",
    "from surprise.model_selection import train_test_split\n",
    "import numpy as np\n"
   ]
  },
  {
   "cell_type": "code",
   "execution_count": 2,
   "id": "0a3c9d1c",
   "metadata": {},
   "outputs": [],
   "source": [
    "movies= pd.read_csv(r\"C:\\Users\\Admin\\OneDrive\\Documents\\Desktop\\final project ip\\movies.csv\")   # Contains userId, movieId, rating, timestamp\n",
    "ratings = pd.read_csv(r\"C:\\Users\\Admin\\OneDrive\\Documents\\Desktop\\final project ip\\ratings.csv\")     # Contains movieId, title, genres"
   ]
  },
  {
   "cell_type": "code",
   "execution_count": 3,
   "id": "752545b5",
   "metadata": {},
   "outputs": [],
   "source": [
    "df = pd.merge(ratings, movies, on=\"movieId\")\n",
    "df = df.drop(columns=[\"timestamp\"]).drop_duplicates()\n",
    "\n",
    "# Unique movies for content-based\n",
    "movies_df = df[['movieId', 'title', 'genres']].drop_duplicates(subset='movieId')\n"
   ]
  },
  {
   "cell_type": "code",
   "execution_count": 4,
   "id": "4b9997dd",
   "metadata": {},
   "outputs": [],
   "source": [
    "tfidf = TfidfVectorizer(stop_words='english')\n",
    "movies_df['genres'] = movies_df['genres'].fillna('')\n",
    "tfidf_matrix = tfidf.fit_transform(movies_df['genres'])\n",
    "cosine_sim = cosine_similarity(tfidf_matrix, tfidf_matrix)\n",
    "\n",
    "indices = pd.Series(movies_df.index, index=movies_df['title']).drop_duplicates()\n"
   ]
  },
  {
   "cell_type": "code",
   "execution_count": 5,
   "id": "c99a16b7",
   "metadata": {},
   "outputs": [
    {
     "data": {
      "text/plain": [
       "<surprise.prediction_algorithms.matrix_factorization.SVD at 0x1a36f406d10>"
      ]
     },
     "execution_count": 5,
     "metadata": {},
     "output_type": "execute_result"
    }
   ],
   "source": [
    "reader = Reader(rating_scale=(0.5, 5.0))\n",
    "data = Dataset.load_from_df(ratings[['userId', 'movieId', 'rating']], reader)\n",
    "trainset, testset = train_test_split(data, test_size=0.2, random_state=42)\n",
    "\n",
    "svd = SVD()\n",
    "svd.fit(trainset)\n"
   ]
  },
  {
   "cell_type": "code",
   "execution_count": 6,
   "id": "143d1d59",
   "metadata": {},
   "outputs": [],
   "source": [
    "def hybrid_recommendations(user_id, movie_title, content_weight=0.5, n=10):\n",
    "    # Content-based part\n",
    "    idx = indices[movie_title]\n",
    "    sim_scores = list(enumerate(cosine_sim[idx]))\n",
    "    sim_scores = sorted(sim_scores, key=lambda x: x[1], reverse=True)\n",
    "    sim_scores = sim_scores[1:100]\n",
    "\n",
    "    movie_indices = [i[0] for i in sim_scores]\n",
    "    sim_dict = {movies_df.iloc[i]['movieId']: score for i, score in sim_scores}\n",
    "\n",
    "    # Collaborative predictions\n",
    "    hybrid_scores = []\n",
    "    for movie_id, content_score in sim_dict.items():\n",
    "        try:\n",
    "            collab_score = svd.predict(user_id, movie_id).est\n",
    "        except:\n",
    "            collab_score = 3.0  # fallback\n",
    "        final_score = content_weight * content_score + (1 - content_weight) * (collab_score / 5)\n",
    "        hybrid_scores.append((movie_id, final_score))\n",
    "\n",
    "    # Sort and return top N titles\n",
    "    top_movies = sorted(hybrid_scores, key=lambda x: x[1], reverse=True)[:n]\n",
    "    top_titles = [movies_df[movies_df['movieId'] == mid]['title'].values[0] for mid, _ in top_movies]\n",
    "    return top_titles\n"
   ]
  },
  {
   "cell_type": "code",
   "execution_count": 7,
   "id": "4cb8a8ee",
   "metadata": {},
   "outputs": [
    {
     "data": {
      "text/plain": [
       "['Monsters, Inc. (2001)',\n",
       " 'Toy Story 2 (1999)',\n",
       " 'Moana (2016)',\n",
       " 'Inside Out (2015)',\n",
       " 'Ponyo (Gake no ue no Ponyo) (2008)',\n",
       " \"Kiki's Delivery Service (Majo no takkyûbin) (1989)\",\n",
       " \"Emperor's New Groove, The (2000)\",\n",
       " 'Turbo (2013)',\n",
       " 'Shrek (2001)',\n",
       " 'Antz (1998)']"
      ]
     },
     "execution_count": 7,
     "metadata": {},
     "output_type": "execute_result"
    }
   ],
   "source": [
    "hybrid_recommendations(user_id=1, movie_title=\"Toy Story (1995)\", content_weight=0.4)\n"
   ]
  }
 ],
 "metadata": {
  "kernelspec": {
   "display_name": "Python 3",
   "language": "python",
   "name": "python3"
  },
  "language_info": {
   "codemirror_mode": {
    "name": "ipython",
    "version": 3
   },
   "file_extension": ".py",
   "mimetype": "text/x-python",
   "name": "python",
   "nbconvert_exporter": "python",
   "pygments_lexer": "ipython3",
   "version": "3.11.9"
  }
 },
 "nbformat": 4,
 "nbformat_minor": 5
}
